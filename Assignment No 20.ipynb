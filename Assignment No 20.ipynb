{
 "cells": [
  {
   "cell_type": "markdown",
   "metadata": {},
   "source": [
    "Assignment No 20"
   ]
  },
  {
   "cell_type": "code",
   "execution_count": null,
   "metadata": {},
   "outputs": [],
   "source": []
  },
  {
   "cell_type": "markdown",
   "metadata": {},
   "source": [
    "Question 1"
   ]
  },
  {
   "cell_type": "code",
   "execution_count": null,
   "metadata": {},
   "outputs": [],
   "source": []
  },
  {
   "cell_type": "code",
   "execution_count": 1,
   "metadata": {},
   "outputs": [],
   "source": [
    "test1='This is a test of the emergency text system' # Creating string variable test1\n",
    "f=open('\\\\test\\\\text.txt','w') # Open a file in write mode\n",
    "f.write(test1) # write inside file\n",
    "f.close() # close"
   ]
  },
  {
   "cell_type": "code",
   "execution_count": null,
   "metadata": {},
   "outputs": [],
   "source": []
  },
  {
   "cell_type": "markdown",
   "metadata": {},
   "source": [
    "Question 2"
   ]
  },
  {
   "cell_type": "code",
   "execution_count": null,
   "metadata": {},
   "outputs": [],
   "source": []
  },
  {
   "cell_type": "code",
   "execution_count": 2,
   "metadata": {},
   "outputs": [
    {
     "name": "stdout",
     "output_type": "stream",
     "text": [
      "test2 is : This is a test of the emergency text system\n",
      "test1 is : This is a test of the emergency text system\n",
      "There is no diffrence in test1 and test2\n"
     ]
    }
   ],
   "source": [
    "f=open('\\\\test\\\\text.txt','r')\n",
    "for i in f:\n",
    "    test2=i\n",
    "print('test2 is :',test2)\n",
    "print('test1 is :',test1)\n",
    "print(\"There is no diffrence in test1 and test2\")"
   ]
  },
  {
   "cell_type": "code",
   "execution_count": null,
   "metadata": {},
   "outputs": [],
   "source": []
  },
  {
   "cell_type": "markdown",
   "metadata": {},
   "source": [
    "Question 3"
   ]
  },
  {
   "cell_type": "code",
   "execution_count": null,
   "metadata": {},
   "outputs": [],
   "source": []
  },
  {
   "cell_type": "code",
   "execution_count": 3,
   "metadata": {},
   "outputs": [],
   "source": [
    "import csv\n",
    "column_name=['title','author','year']\n",
    "data=[  {'title':'The Weirdstone of Brisingamen',\n",
    "        'author':'Alan Garner',\n",
    "        'year':1960},\n",
    "        {'title':'Perdido Street Station',\n",
    "        'author':'China Miéville',\n",
    "        'year':2000},\n",
    "        {'title':'Thud!',\n",
    "        'author':'Terry Pratchett',\n",
    "        'year':2005},\n",
    "        {'title':'The Spellman Files',\n",
    "        'author':'Lisa Lutz',\n",
    "        'year':2007}\n",
    "    ]\n",
    "with open('books.csv','w',encoding ='UTF8',newline='') as f:\n",
    "    writer=csv.DictWriter(f,fieldnames=column_name)\n",
    "    writer.writeheader()\n",
    "    writer.writerows(data)\n",
    "    "
   ]
  },
  {
   "cell_type": "markdown",
   "metadata": {},
   "source": [
    "Question 4"
   ]
  },
  {
   "cell_type": "code",
   "execution_count": null,
   "metadata": {},
   "outputs": [],
   "source": []
  },
  {
   "cell_type": "code",
   "execution_count": null,
   "metadata": {},
   "outputs": [],
   "source": [
    "import sqlite3   # import sqlite3 package\n",
    "db=sqlite3.connect('books.db') # Create connection object\n",
    "cursor=db.cursor() # Create pointer to point database\n",
    "cursor.execute('create table books(title text, authod text,year int)') # Create table named as books\n",
    "db.close()"
   ]
  },
  {
   "cell_type": "code",
   "execution_count": null,
   "metadata": {},
   "outputs": [],
   "source": []
  },
  {
   "cell_type": "markdown",
   "metadata": {},
   "source": [
    "Question 5"
   ]
  },
  {
   "cell_type": "code",
   "execution_count": null,
   "metadata": {},
   "outputs": [],
   "source": []
  },
  {
   "cell_type": "code",
   "execution_count": 7,
   "metadata": {},
   "outputs": [],
   "source": [
    "db=sqlite3.connect('books.db')\n",
    "cursor.execute('select * from books')\n",
    "cursor.execute('insert into books values(\"Charles\",\"Deccan\",1983)') # Insert data inside the table\n",
    "db.close()"
   ]
  },
  {
   "cell_type": "code",
   "execution_count": null,
   "metadata": {},
   "outputs": [],
   "source": []
  },
  {
   "cell_type": "markdown",
   "metadata": {},
   "source": [
    "Question 6"
   ]
  },
  {
   "cell_type": "code",
   "execution_count": null,
   "metadata": {},
   "outputs": [],
   "source": []
  },
  {
   "cell_type": "code",
   "execution_count": 8,
   "metadata": {},
   "outputs": [
    {
     "name": "stdout",
     "output_type": "stream",
     "text": [
      "Charles\n",
      "Charles\n",
      "Charles\n"
     ]
    }
   ],
   "source": [
    "title=cursor.execute('select title from books order by title') # extract titles from books table \n",
    "for i in title:\n",
    "    print(i[0])\n",
    "db.close()"
   ]
  },
  {
   "cell_type": "code",
   "execution_count": null,
   "metadata": {},
   "outputs": [],
   "source": []
  },
  {
   "cell_type": "markdown",
   "metadata": {},
   "source": [
    "Question 7"
   ]
  },
  {
   "cell_type": "code",
   "execution_count": null,
   "metadata": {},
   "outputs": [],
   "source": []
  },
  {
   "cell_type": "code",
   "execution_count": 9,
   "metadata": {},
   "outputs": [
    {
     "name": "stdout",
     "output_type": "stream",
     "text": [
      "('Charles', 'Deccan', 1983)\n",
      "('Charles', 'Deccan', 1983)\n",
      "('Charles', 'Deccan', 1983)\n"
     ]
    }
   ],
   "source": [
    "publication=cursor.execute('select * from books order by year')\n",
    "for i in publication:\n",
    "    print(i)"
   ]
  },
  {
   "cell_type": "markdown",
   "metadata": {},
   "source": [
    "Question 8"
   ]
  },
  {
   "cell_type": "code",
   "execution_count": null,
   "metadata": {},
   "outputs": [],
   "source": []
  },
  {
   "cell_type": "code",
   "execution_count": 13,
   "metadata": {},
   "outputs": [
    {
     "data": {
      "text/plain": [
       "Engine(sqlite:///books.db)"
      ]
     },
     "execution_count": 13,
     "metadata": {},
     "output_type": "execute_result"
    }
   ],
   "source": [
    "import sqlalchemy\n",
    "conn=sqlalchemy.create_engine('sqlite:///books.db')\n",
    "conn"
   ]
  },
  {
   "cell_type": "code",
   "execution_count": null,
   "metadata": {},
   "outputs": [],
   "source": []
  },
  {
   "cell_type": "markdown",
   "metadata": {},
   "source": [
    "Question 9"
   ]
  },
  {
   "cell_type": "code",
   "execution_count": null,
   "metadata": {},
   "outputs": [],
   "source": []
  },
  {
   "cell_type": "code",
   "execution_count": 4,
   "metadata": {},
   "outputs": [
    {
     "name": "stdout",
     "output_type": "stream",
     "text": [
      "Requirement already satisfied: redis in c:\\users\\admin\\anaconda3\\lib\\site-packages (4.1.4)Note: you may need to restart the kernel to use updated packages.\n",
      "Requirement already satisfied: deprecated>=1.2.3 in c:\\users\\admin\\anaconda3\\lib\\site-packages (from redis) (1.2.13)\n",
      "Requirement already satisfied: importlib-metadata>=1.0; python_version < \"3.8\" in c:\\users\\admin\\anaconda3\\lib\\site-packages (from redis) (4.11.2)\n",
      "Requirement already satisfied: packaging>=20.4 in c:\\users\\admin\\anaconda3\\lib\\site-packages (from redis) (21.3)\n",
      "Requirement already satisfied: wrapt<2,>=1.10 in c:\\users\\admin\\anaconda3\\lib\\site-packages (from deprecated>=1.2.3->redis) (1.10.11)\n",
      "Requirement already satisfied: typing-extensions>=3.6.4; python_version < \"3.8\" in c:\\users\\admin\\anaconda3\\lib\\site-packages (from importlib-metadata>=1.0; python_version < \"3.8\"->redis) (4.1.1)\n",
      "Requirement already satisfied: zipp>=0.5 in c:\\users\\admin\\anaconda3\\lib\\site-packages (from importlib-metadata>=1.0; python_version < \"3.8\"->redis) (3.7.0)\n",
      "Requirement already satisfied: pyparsing!=3.0.5,>=2.0.2 in c:\\users\\admin\\anaconda3\\lib\\site-packages (from packaging>=20.4->redis) (2.3.0)\n",
      "\n"
     ]
    }
   ],
   "source": [
    "pip install redis"
   ]
  },
  {
   "cell_type": "code",
   "execution_count": null,
   "metadata": {},
   "outputs": [],
   "source": [
    "import redis\n",
    "conn=redis.Redis()\n",
    "conn.hset('test',{'count':1,\n",
    "                  'name':'Fester Bestertester'})\n",
    "conn.hgetall('test')"
   ]
  },
  {
   "cell_type": "code",
   "execution_count": null,
   "metadata": {},
   "outputs": [],
   "source": []
  },
  {
   "cell_type": "markdown",
   "metadata": {},
   "source": [
    "Question 10"
   ]
  },
  {
   "cell_type": "code",
   "execution_count": null,
   "metadata": {},
   "outputs": [],
   "source": []
  },
  {
   "cell_type": "code",
   "execution_count": null,
   "metadata": {},
   "outputs": [],
   "source": [
    "conn.hincrby('test','count',1)\n",
    "conn.hget('test','count')"
   ]
  }
 ],
 "metadata": {
  "kernelspec": {
   "display_name": "Python 3",
   "language": "python",
   "name": "python3"
  },
  "language_info": {
   "codemirror_mode": {
    "name": "ipython",
    "version": 3
   },
   "file_extension": ".py",
   "mimetype": "text/x-python",
   "name": "python",
   "nbconvert_exporter": "python",
   "pygments_lexer": "ipython3",
   "version": "3.7.1"
  }
 },
 "nbformat": 4,
 "nbformat_minor": 2
}
